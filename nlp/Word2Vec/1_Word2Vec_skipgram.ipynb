{
 "cells": [
  {
   "cell_type": "code",
   "execution_count": 1,
   "metadata": {},
   "outputs": [
    {
     "name": "stderr",
     "output_type": "stream",
     "text": [
      "C:\\Users\\admin\\AppData\\Local\\Temp\\ipykernel_10928\\1734209592.py:59: UserWarning: Creating a tensor from a list of numpy.ndarrays is extremely slow. Please consider converting the list to a single numpy.ndarray with numpy.array() before converting to a tensor. (Triggered internally at C:\\actions-runner\\_work\\pytorch\\pytorch\\builder\\windows\\pytorch\\torch\\csrc\\utils\\tensor_new.cpp:278.)\n",
      "  input_batch = torch.Tensor(input_batch)\n"
     ]
    },
    {
     "name": "stdout",
     "output_type": "stream",
     "text": [
      "Epoch 1000, cost = 1.574704\n",
      "Epoch 2000, cost = 1.629581\n",
      "Epoch 3000, cost = 1.130401\n",
      "Epoch 4000, cost = 1.526712\n",
      "Epoch 5000, cost = 1.295940\n",
      "Epoch 6000, cost = 0.663110\n",
      "Epoch 7000, cost = 1.447102\n",
      "Epoch 8000, cost = 1.700677\n",
      "Epoch 9000, cost = 1.355525\n",
      "Epoch 10000, cost = 1.648024\n",
      "Epoch 11000, cost = 1.291069\n",
      "Epoch 12000, cost = 0.959810\n",
      "Epoch 13000, cost = 0.997126\n",
      "Epoch 14000, cost = 1.171757\n",
      "Epoch 15000, cost = 0.700689\n"
     ]
    },
    {
     "data": {
      "image/png": "[encoded data removed]",
      "text/plain": [
       "<Figure size 640x480 with 1 Axes>"
      ]
     },
     "metadata": {},
     "output_type": "display_data"
    }
   ],
   "source": [
    "import numpy as np\n",
    "import torch\n",
    "import torch.nn as nn\n",
    "import torch.optim as optim\n",
    "import matplotlib.pyplot as plt\n",
    "\n",
    "def random_batch():\n",
    "    random_inputs = []\n",
    "    random_labels = []\n",
    "    random_index = np.random.choice(range(len(skip_grams)), batch_size, replace=False)\n",
    "\n",
    "    for i in random_index:\n",
    "        random_inputs.append(np.eye(voc_size)[skip_grams[i][0]])  # target\n",
    "        random_labels.append(skip_grams[i][1])  # context word\n",
    "\n",
    "    return random_inputs, random_labels\n",
    "\n",
    "# Model\n",
    "class Word2Vec(nn.Module):\n",
    "    def __init__(self):\n",
    "        super(Word2Vec, self).__init__()\n",
    "        # W and WY is not Transpose Relationship\n",
    "        self.W = nn.Linear(voc_size, embedding_size, bias=False)  # voc_size > embedding_size Weight\n",
    "        self.WT = nn.Linear(embedding_size, voc_size, bias=False)  # embedding_size > voc_size Weight\n",
    "\n",
    "    def forward(self, X):\n",
    "        # X : [batch_size, voc_size]\n",
    "        hidden_layer = self.W(X)  # hidden_layer : [batch_size, embedding_size]\n",
    "        output_layer = self.WT(hidden_layer)\n",
    "        return output_layer\n",
    "\n",
    "if __name__==\"__main__\":\n",
    "    batch_size = 2\n",
    "    embedding_size = 2\n",
    "\n",
    "    sentences = [\"apple banana fruit\", \"banana orange fruit\", 'orange banana fruit', 'dog cat animal', 'cat monkey animal', 'monkey dog animal']\n",
    "\n",
    "    word_sequence = \" \".join(sentences).split()\n",
    "    word_list = \" \".join(sentences).split()\n",
    "    word_list = list(set(word_list))\n",
    "    word_dict = {w : i for i, w in enumerate(word_list)}\n",
    "    voc_size = len(word_list)\n",
    "\n",
    "    # Make skip gram of one size window\n",
    "    skip_grams = []\n",
    "    for i in range(1, len(word_sequence) - 1):\n",
    "        target = word_dict[word_sequence[i]]\n",
    "        context = [word_dict[word_sequence[i - 1]], word_dict[word_sequence[i + 1]]]\n",
    "        for w in context:\n",
    "            skip_grams.append([target, w])\n",
    "    \n",
    "    model = Word2Vec()\n",
    "\n",
    "    criterion = nn.CrossEntropyLoss()\n",
    "    optimizer = optim.Adam(model.parameters(), lr=0.001)\n",
    "\n",
    "    for epoch in range(15000):\n",
    "        input_batch, target_batch = random_batch()\n",
    "        input_batch = torch.Tensor(input_batch)\n",
    "        target_batch = torch.LongTensor(target_batch)\n",
    "\n",
    "        optimizer.zero_grad()\n",
    "        output = model(input_batch)\n",
    "\n",
    "        # output : [batch size, voc size], target_batch : [batch_size] (LongTensor, not one-hot)\n",
    "        loss = criterion(output, target_batch)\n",
    "        if (epoch+1)%1000 == 0:\n",
    "            print('Epoch {}, cost = {:.6f}'.format(epoch+1, loss))\n",
    "\n",
    "        loss.backward()\n",
    "        optimizer.step()\n",
    "\n",
    "    for i, label in enumerate(word_list):\n",
    "        W, WT = model.parameters()\n",
    "        x, y = W[0][i].item(), W[1][i].item()\n",
    "\n",
    "        plt.scatter(x, y)\n",
    "        plt.annotate(label, xy=(x, y), xytext=(5, 2), textcoords=\"offset points\", ha=\"right\", va=\"bottom\")\n",
    "    plt.show()"
   ]
  },
  {
   "cell_type": "markdown",
   "metadata": {},
   "source": [
    "## 네거티브 샘플링\n",
    "Word2Vec의 출력층에는 소프트맥스 함수를 지난 단어 집합의 크기의 벡터와 실제값인 원핫 벡터와의 오차를 구하고 이로부터 임베딩 벡터 값을 업데이트합니다. 만약 단어 집합의 크기가 수만 이상에 달한다면 이 작업은 굉장히 무거운 작업이므로, Word2Vec은 꽤나 학습하기에 무거운 모델이 됩니다.\n",
    "\n",
    "Word2Vec은 역전파 과정에서 모든 단어의 임베딩 벡터값의 업데이트를 수행하지만, 만약 현재 집중하고 있는 중심 단어와 주변 단어가 '강아지'와 '고양이', '귀여운'과 같은 단어라면, 사실 이 단어들과 별 연관 관계가 없는 '돈가스'나 '컴퓨터'와 같은 수많은 단어의 임베딩 벡터값까지 업데이트하는 것은 비효율적입니다.\n",
    "\n",
    "네거티브 샘플링은 **Word2Vec이 학습 과정에서 전체 단어 집합이 아니라 일부 단어 집합에만 집중할 수 있도록 하는 방법**입니다. 가령 현재 집중하고 있는 주변 단어가 '고양이', '귀여운'이라고 해봅시다. 여기에 '돈가스', '컴퓨터', '회의실'과 같은 단어 집합에서 무작위로 선택된 주변 단어가 아닌 단어들을 일부 가져옵니다. 이렇게 하나의 중심 단어에 대해서 전체 단어 집합보다 훨씬 작은 단어 집합을 만들어 놓고 마지막 단계를 이진 분류 문제로 변환합니다. 주변 단어들을 긍정(positive), 랜덤으로 샘플링 된 단어들을 부정(negative)으로 레이블링한다면 이진 분류 문제를 위한 데이터셋이 됩니다. 이는 기존의 단어 집합의 크기만큼의 선택지를 두고 다중 클래스 분류 문제를 풀던 Word2Vec보다 훨씬 연산량에서 효율적입니다.\n",
    "\n",
    "## 네거티브 샘플링 Skip-gram\n",
    "\n",
    "> The fat cat sat on the mat\n",
    "\n",
    "skip-gram은 중심 단어로부터 주변 단어를 예측하는 모델이다. 위와 같은 문장이 있다고 한다면, Skip-Gram은 중심 단어인 cat으로 부터 주변 단어인 The, sat, on을 예측한다. 기존의 Skip-gram은 입력으로 cat이 주어지고, 예측으로 주변 단어가 output으로 나오는 구조이다.\n",
    "\n",
    "하지만 네거티브 샘플링을 사용하는 Skip-Gram(SGNS)는 이와는 다른 접근 방식을 취합니다. 주변단어와 중심단어가 모두 input으로 입력되고, 이 두 단어가 실제로 window size 내에 존재하는 이웃 관계인지 그 확률을 예측한다.\n",
    "\n",
    "기존의 Skip-gram 데이터셋을 SGNS의 데이터셋으로 바꾸는 과정은 아래와 같다.\n",
    "\n",
    "<img src=\"./images_for_markdown/SGtoSGNS.png\">\n",
    "\n",
    "위의 그림에서 좌측의 테이블은 기존의 skip-gram을 학습하기 위한 데이터셋입니다. Skip-gram은 기본적으로 중심 단어를 입력, 주변 단어를 레이블로 합니다. 하지만 SGNS를 학습하고 싶다면, 이 데이터셋을 우측의 테이블과 같이 수정할 필요가 있습니다. 우선, **기존의 Skip-gram 데이터셋에서 중심 단어와 주변 단어를 각각 입력1, 입력2**로 둡니다. 이 둘은 실제로 윈도우 크기 내에서 이웃 관계였으므로, **레이블은 1**로 합니다. 이제 레이블이 0인 샘플들을 준비할 차례입니다.\n",
    "\n",
    "<img src=\"./images_for_markdown/SGNS-data.png\">\n",
    "\n",
    "실제로는 입력1(중심 단어)와 주변 단어 관계가 아닌 단어들을 입력2로 삼기 위해서 **단어 집합에서 랜덤으로 선택한 단어들을 입력2**로 하고, **레이블을 0**으로 합니다. 이제 이 데이터셋은 입력1과 입력2가 실제로 윈도우 크기 내에서 이웃 관계인 경우에는 레이블이 1, 아닌 경우에는 레이블이 0이 됩니다. 그리고 이제 두 개의 임베딩 테이블을 준비합니다. 두 임베딩 테이블은 훈련 데이터의 단어 집합의 크기를 가지므로 크기가 같습니다.\n",
    "\n",
    "<img src=\"./images_for_markdown/embedding_table.png\">\n",
    "\n",
    "두 테이블 중 하나는 입력1인 중심 단어의 룩업 테이블을 위한 임베딩 테이블이고, 하나는 입력2인 주변 단어의 룩업테이블을 위한 임베딩 테이블입니다. 각 단어는 각 임베딩 테이블을 룩업 테이블하여 임베딩 벡터로 변환됩니다.\n",
    "\n",
    "<img src=\"./images_for_markdown/embedding.png\">\n",
    "\n",
    "각 임베딩 테이블을 통해 룩업 테이블 하며 임베딩 벡터로 변환되었다면 그 후의 연산은 매우 간단합니다.\n",
    "\n",
    "<img src=\"./images_for_markdown/embedding_vec_update.png\">\n",
    "\n",
    "중심 단어와 주변 단어의 내적값을 이 모델의 예측값으로 하고, 레이블과의 오차로부터 역전파 하며 중심 단어와 주변 단어의 임베딩 벡터값을 업데이트합니다. 학습 후에는 좌측의 임베딩 행렬을 임베딩 벡터로 사용할 수도 있고, 두 행렬을 더한 후 사용하거나 두 행렬을 연결(concatenate)해서 사용할 수도 있습니다. 아래의 실습에서는 좌측의 행렬을 사용하는 방식을 택했습니다."
   ]
  },
  {
   "cell_type": "code",
   "execution_count": 2,
   "metadata": {},
   "outputs": [],
   "source": [
    "import pandas as pd\n",
    "import numpy as np\n",
    "import nltk\n",
    "\n",
    "from nltk.corpus import stopwords\n",
    "from sklearn.datasets import fetch_20newsgroups\n",
    "from keras.preprocessing.text import Tokenizer"
   ]
  },
  {
   "cell_type": "markdown",
   "metadata": {},
   "source": [
    "20뉴스 그룹 데이터셋으로 실습을 진행합니다. \n",
    "\n",
    "해당 실습에서는 하나의 샘플에 최소 2개의 단어가 있어야합니다. 그래야만 중심 단어, 주변 단어의 관계가 성립하며 그렇지 않으면 샘플을 구성할 수 없어 오류가 발생합니다. 전처리 과정에서 지속적으로 이를 만족하지 않는 샘플들을 제거합니다."
   ]
  },
  {
   "cell_type": "code",
   "execution_count": 3,
   "metadata": {},
   "outputs": [
    {
     "name": "stdout",
     "output_type": "stream",
     "text": [
      "총 샘플 수 :  11314\n"
     ]
    }
   ],
   "source": [
    "dataset = fetch_20newsgroups(shuffle=True, random_state=1, remove=(\"headers\", \"footers\", \"quotes\"))\n",
    "documents = dataset.data\n",
    "print(\"총 샘플 수 : \", len(documents))"
   ]
  },
  {
   "cell_type": "markdown",
   "metadata": {},
   "source": [
    "총 샘플 수는 11,314개 입니다. 전처리를 진행하며 불필요한 토큰을 제거하고, 소문자화를 통해 정규화를 진행합니다."
   ]
  },
  {
   "cell_type": "code",
   "execution_count": 4,
   "metadata": {},
   "outputs": [],
   "source": [
    "news_df = pd.DataFrame({\"document\":documents})\n",
    "news_df['clean_doc'] = news_df['document'].str.replace(\"[^a-zA-Z]\", \" \")  # 특수문자 제거\n",
    "news_df['clean_doc'] = news_df['clean_doc'].apply(lambda x: ' '.join([w for w in x.split() if len(w) > 3]))  # 길이가 3 이하인 문자들 제거\n",
    "news_df['clean_doc'] = news_df['clean_doc'].apply(lambda x: x.lower())\n"
   ]
  },
  {
   "cell_type": "code",
   "execution_count": 5,
   "metadata": {},
   "outputs": [
    {
     "data": {
      "text/plain": [
       "False"
      ]
     },
     "execution_count": 5,
     "metadata": {},
     "output_type": "execute_result"
    }
   ],
   "source": [
    "news_df.isnull().values.any()  # 결측치 확인"
   ]
  },
  {
   "cell_type": "code",
   "execution_count": 6,
   "metadata": {},
   "outputs": [
    {
     "data": {
      "text/plain": [
       "True"
      ]
     },
     "execution_count": 6,
     "metadata": {},
     "output_type": "execute_result"
    }
   ],
   "source": [
    "news_df.replace(\"\", float(\"NaN\"), inplace=True)  # 빈 값을 결측치로 치환해서 다시 확인\n",
    "news_df.isnull().values.any()"
   ]
  },
  {
   "cell_type": "code",
   "execution_count": 7,
   "metadata": {},
   "outputs": [
    {
     "name": "stdout",
     "output_type": "stream",
     "text": [
      "총 샘플 수 :  11004\n"
     ]
    }
   ],
   "source": [
    "news_df.dropna(inplace=True)  # 결측치 제거\n",
    "print('총 샘플 수 : ', len(news_df))"
   ]
  },
  {
   "cell_type": "code",
   "execution_count": 8,
   "metadata": {},
   "outputs": [],
   "source": [
    "# 불용어 제거\n",
    "stop_words = stopwords.words(\"english\")\n",
    "tokenized_doc = news_df['clean_doc'].apply(lambda x: x.split())\n",
    "tokenized_doc = tokenized_doc.apply(lambda x: [item for item in x if item not in stop_words])\n",
    "tokenized_doc = tokenized_doc.to_list()"
   ]
  },
  {
   "cell_type": "code",
   "execution_count": 9,
   "metadata": {},
   "outputs": [
    {
     "name": "stdout",
     "output_type": "stream",
     "text": [
      "총 샘플 수 :  10961\n"
     ]
    },
    {
     "name": "stderr",
     "output_type": "stream",
     "text": [
      "c:\\Users\\admin\\miniconda3\\envs\\mynlp\\lib\\site-packages\\numpy\\lib\\function_base.py:5030: VisibleDeprecationWarning: Creating an ndarray from ragged nested sequences (which is a list-or-tuple of lists-or-tuples-or ndarrays with different lengths or shapes) is deprecated. If you meant to do this, you must specify 'dtype=object' when creating the ndarray.\n",
      "  arr = asarray(arr)\n"
     ]
    }
   ],
   "source": [
    "drop_train = [index for index, sentence in enumerate(tokenized_doc) if len(sentence) <= 1]\n",
    "tokenized_doc = np.delete(tokenized_doc, drop_train, axis=0)\n",
    "print(\"총 샘플 수 : \", len(tokenized_doc))"
   ]
  },
  {
   "cell_type": "code",
   "execution_count": 10,
   "metadata": {},
   "outputs": [],
   "source": [
    "tokenizer = Tokenizer()\n",
    "tokenizer.fit_on_texts(tokenized_doc)\n",
    "\n",
    "word2idx = tokenizer.word_index\n",
    "idx2word = {val : key for key, val in word2idx.items()}\n",
    "encoded = tokenizer.texts_to_sequences(tokenized_doc)\n"
   ]
  },
  {
   "cell_type": "code",
   "execution_count": 11,
   "metadata": {},
   "outputs": [
    {
     "data": {
      "text/plain": [
       "[[40,\n",
       "  53,\n",
       "  927,\n",
       "  143,\n",
       "  15889,\n",
       "  1684,\n",
       "  546,\n",
       "  279,\n",
       "  871,\n",
       "  12028,\n",
       "  17773,\n",
       "  24007,\n",
       "  29726,\n",
       "  279,\n",
       "  871,\n",
       "  63435,\n",
       "  871,\n",
       "  1128,\n",
       "  1103,\n",
       "  1998,\n",
       "  851,\n",
       "  29727,\n",
       "  913,\n",
       "  731,\n",
       "  20477,\n",
       "  279,\n",
       "  871,\n",
       "  170,\n",
       "  143,\n",
       "  1811,\n",
       "  149,\n",
       "  279,\n",
       "  20478,\n",
       "  17773,\n",
       "  6645,\n",
       "  5710,\n",
       "  76,\n",
       "  63436,\n",
       "  7,\n",
       "  36,\n",
       "  165,\n",
       "  614,\n",
       "  653,\n",
       "  29728,\n",
       "  6911,\n",
       "  24008,\n",
       "  2082,\n",
       "  829,\n",
       "  17774,\n",
       "  1119,\n",
       "  8790,\n",
       "  355,\n",
       "  1072,\n",
       "  15890,\n",
       "  671,\n",
       "  57,\n",
       "  163,\n",
       "  4231,\n",
       "  7206,\n",
       "  1933,\n",
       "  440,\n",
       "  56,\n",
       "  282,\n",
       "  4730,\n",
       "  9275,\n",
       "  2690,\n",
       "  39306],\n",
       " [1283,\n",
       "  429,\n",
       "  3,\n",
       "  52,\n",
       "  6164,\n",
       "  159,\n",
       "  112,\n",
       "  474,\n",
       "  89,\n",
       "  17775,\n",
       "  18,\n",
       "  63,\n",
       "  4731,\n",
       "  2865,\n",
       "  63437,\n",
       "  1042,\n",
       "  402,\n",
       "  39307,\n",
       "  8791,\n",
       "  902,\n",
       "  44,\n",
       "  8328,\n",
       "  316,\n",
       "  13041,\n",
       "  902,\n",
       "  3452,\n",
       "  5923,\n",
       "  533,\n",
       "  18,\n",
       "  87,\n",
       "  4732,\n",
       "  9872,\n",
       "  160,\n",
       "  1403,\n",
       "  120,\n",
       "  151,\n",
       "  5194,\n",
       "  63438,\n",
       "  63439,\n",
       "  17776,\n",
       "  63440,\n",
       "  13041,\n",
       "  903,\n",
       "  63441,\n",
       "  63442,\n",
       "  11172,\n",
       "  17777]]"
      ]
     },
     "execution_count": 11,
     "metadata": {},
     "output_type": "execute_result"
    }
   ],
   "source": [
    "encoded[:2]"
   ]
  },
  {
   "cell_type": "code",
   "execution_count": 12,
   "metadata": {},
   "outputs": [
    {
     "name": "stdout",
     "output_type": "stream",
     "text": [
      "단어 집합의 크기 :  181839\n"
     ]
    }
   ],
   "source": [
    "vocab_size = len(word2idx) + 1\n",
    "\n",
    "print(\"단어 집합의 크기 : \", vocab_size)"
   ]
  },
  {
   "cell_type": "markdown",
   "metadata": {},
   "source": [
    "## 네거티브 샘플링을 통한 데이터셋 구성하기\n",
    "\n",
    "토큰화, 정제, 정규화, 불용어 제거, 정수 인코딩까지 일반적인 전처리 과정을 거쳤습니다. 네거티브 샘플링을 통한 데이터셋을 구성할 차례입니다.\n",
    "\n",
    "이를 위해서는 네커티브 샘플링을 위해서 케라스에서 제공하는 전처리 도구인 skipgrams를 사용합니다. 어떤 전처리가 수행되는지 그 결과를 확인하기 위해서 상위 10개의 뉴스 그룹 샘플에 대해서만 수행해 봅니다."
   ]
  },
  {
   "cell_type": "code",
   "execution_count": 13,
   "metadata": {},
   "outputs": [],
   "source": [
    "from tensorflow.keras.preprocessing.sequence import skipgrams\n",
    "\n",
    "skip_grams = [skipgrams(sample, vocabulary_size=vocab_size, window_size=10) for sample in encoded[:10]]"
   ]
  },
  {
   "cell_type": "code",
   "execution_count": 14,
   "metadata": {},
   "outputs": [
    {
     "name": "stdout",
     "output_type": "stream",
     "text": [
      "(atrocities. (29728), md6f1o[_':<?'q\\=id;]id;\\oq\\>1:<=i+veiq\\=iqr^1d9$o:9$z.l?':8:1 (153545)) -> 0\n",
      "(ruin (12028), story (927)) -> 1\n",
      "(guilt (7206), blessing (15890)) -> 1\n",
      "(letter (731), seem (143)) -> 1\n",
      "(ignore (1811), subsidizing (20478)) -> 1\n"
     ]
    }
   ],
   "source": [
    "# 첫 번째 샘플인 skip_grams[0] 내 skipgrams로 형성된 데이터셋 확인\n",
    "pairs, labels = skip_grams[0][0], skip_grams[0][1]\n",
    "for i in range(5):\n",
    "    print(\"({:s} ({:d}), {:s} ({:d})) -> {:d}\".format(\n",
    "        idx2word[pairs[i][0]], pairs[i][0],\n",
    "        idx2word[pairs[i][1]], pairs[i][1],\n",
    "        labels[i]\n",
    "        ))"
   ]
  },
  {
   "cell_type": "markdown",
   "metadata": {},
   "source": [
    "윈도우 크기 내에서 중심 단어, 주변 단어의 관계를 가지는 경우에는 1의 레이블을 갖도록 하고, 그렇지 않은 경우는 0의 레이블을 가지도록 하여 데이터셋을 구성합니다.\n",
    "\n",
    "이 과정은 각각의 뉴스그룹 샘플에 대해서 동일한 프로세스로 수행됩니다."
   ]
  },
  {
   "cell_type": "code",
   "execution_count": 15,
   "metadata": {},
   "outputs": [
    {
     "name": "stdout",
     "output_type": "stream",
     "text": [
      "전체 샘플 수 :  10\n"
     ]
    }
   ],
   "source": [
    "print('전체 샘플 수 : ', len(skip_grams))"
   ]
  },
  {
   "cell_type": "markdown",
   "metadata": {},
   "source": [
    "encoded 중 상위 10개의 뉴스그룹 샘플에 대해서만 수행하였으므로 10이 출력됩니다. 그리고 10개의 뉴스그룹 샘플 각각은 수많은 중심 단어, 주변 단어의 쌍으로 된 샘플들을 갖고 있습니다. 첫 번째 뉴스그룹 샘플이 가지고 있는 pairs와 labels의 개수를 출력해봅니다."
   ]
  },
  {
   "cell_type": "code",
   "execution_count": 16,
   "metadata": {},
   "outputs": [
    {
     "name": "stdout",
     "output_type": "stream",
     "text": [
      "2460\n",
      "2460\n"
     ]
    }
   ],
   "source": [
    "print(len(pairs))\n",
    "print(len(labels))"
   ]
  },
  {
   "cell_type": "code",
   "execution_count": 17,
   "metadata": {},
   "outputs": [],
   "source": [
    "# 모든 뉴스그룹 샘플에 대해 수행\n",
    "skip_grams = [skipgrams(sample, vocabulary_size=vocab_size, window_size=10) for sample in encoded]"
   ]
  },
  {
   "cell_type": "markdown",
   "metadata": {},
   "source": [
    "### Skip-Gram with Negative Sampling(SGNS) 구현하기\n"
   ]
  },
  {
   "cell_type": "code",
   "execution_count": 18,
   "metadata": {},
   "outputs": [],
   "source": [
    "from tensorflow.keras.models import Sequential, Model\n",
    "from tensorflow.keras.layers import Embedding, Reshape, Activation, Input, Dot\n",
    "from tensorflow.keras.utils import plot_model\n",
    "from IPython.display import SVG"
   ]
  },
  {
   "cell_type": "markdown",
   "metadata": {},
   "source": [
    "하이퍼 파라미터인 임베딩 벡터의 차원은 100으로 정하고, 두 개의 임베딩 층을 추가합니다."
   ]
  },
  {
   "cell_type": "code",
   "execution_count": 19,
   "metadata": {},
   "outputs": [],
   "source": [
    "embedding_dim = 100\n",
    "\n",
    "# 중심 단어를 위한 임베딩 테이블\n",
    "w_inputs = Input(shape=(1, ), dtype=\"int32\")\n",
    "word_embedding = Embedding(vocab_size, embedding_dim)(w_inputs)\n",
    "\n",
    "# 주변 단어를 위한 임베딩 테이블\n",
    "c_inputs = Input(shape=(1, ), dtype=\"int32\")\n",
    "context_embedding = Embedding(vocab_size, embedding_dim)(c_inputs)"
   ]
  },
  {
   "cell_type": "markdown",
   "metadata": {},
   "source": [
    "각 임베딩 테이블은 중심 단어와 주변 단어 각각을 위한 임베딩 테이블이며 각 단어는 임베딩 테이블을 거쳐서 내적을 수행하고, 내적의 결과는 1 또는 0을 예측하기 위해서 시그모이드 함수를 활성화 함수로 거쳐 최종 예측값을 얻습니다."
   ]
  },
  {
   "cell_type": "code",
   "execution_count": 20,
   "metadata": {},
   "outputs": [
    {
     "name": "stdout",
     "output_type": "stream",
     "text": [
      "Model: \"model\"\n",
      "__________________________________________________________________________________________________\n",
      " Layer (type)                   Output Shape         Param #     Connected to                     \n",
      "==================================================================================================\n",
      " input_1 (InputLayer)           [(None, 1)]          0           []                               \n",
      "                                                                                                  \n",
      " input_2 (InputLayer)           [(None, 1)]          0           []                               \n",
      "                                                                                                  \n",
      " embedding (Embedding)          (None, 1, 100)       18183900    ['input_1[0][0]']                \n",
      "                                                                                                  \n",
      " embedding_1 (Embedding)        (None, 1, 100)       18183900    ['input_2[0][0]']                \n",
      "                                                                                                  \n",
      " dot (Dot)                      (None, 1, 1)         0           ['embedding[0][0]',              \n",
      "                                                                  'embedding_1[0][0]']            \n",
      "                                                                                                  \n",
      " reshape (Reshape)              (None, 1)            0           ['dot[0][0]']                    \n",
      "                                                                                                  \n",
      " activation (Activation)        (None, 1)            0           ['reshape[0][0]']                \n",
      "                                                                                                  \n",
      "==================================================================================================\n",
      "Total params: 36,367,800\n",
      "Trainable params: 36,367,800\n",
      "Non-trainable params: 0\n",
      "__________________________________________________________________________________________________\n",
      "You must install pydot (`pip install pydot`) and install graphviz (see instructions at https://graphviz.gitlab.io/download/) for plot_model to work.\n"
     ]
    }
   ],
   "source": [
    "dot_product = Dot(axes=2)([word_embedding, context_embedding])\n",
    "dot_product = Reshape((1, ), input_shape=(1, 1))(dot_product)\n",
    "output = Activation(\"sigmoid\")(dot_product)\n",
    "\n",
    "model = Model(inputs=[w_inputs, c_inputs], outputs=output)\n",
    "model.summary()\n",
    "model.compile(loss=\"binary_crossentropy\", optimizer=\"adam\")\n",
    "plot_model(model, to_file=\"model3.png\", show_shapes=True, show_layer_names=True, rankdir=\"TB\")"
   ]
  },
  {
   "cell_type": "code",
   "execution_count": 21,
   "metadata": {},
   "outputs": [
    {
     "name": "stdout",
     "output_type": "stream",
     "text": [
      "Epoch : 1 Loss : 5592.068294741213\n",
      "Epoch : 2 Loss : 4304.659364938736\n",
      "Epoch : 3 Loss : 4059.000408515334\n",
      "Epoch : 4 Loss : 3757.968439348042\n",
      "Epoch : 5 Loss : 3438.554327165708\n"
     ]
    }
   ],
   "source": [
    "for epoch in range(1, 6):\n",
    "    loss = 0\n",
    "    for _, elem in enumerate(skip_grams):\n",
    "        first_elem = np.array(list(zip(*elem[0]))[0], dtype=\"int32\")\n",
    "        second_elem = np.array(list(zip(*elem[0]))[1], dtype=\"int32\")\n",
    "        labels = np.array(elem[1], dtype=\"int32\")\n",
    "        X = [first_elem, second_elem]\n",
    "        Y = labels\n",
    "\n",
    "        loss += model.train_on_batch(X, Y)\n",
    "    print(\"Epoch : {} Loss : {}\".format(epoch, loss))"
   ]
  },
  {
   "cell_type": "code",
   "execution_count": 22,
   "metadata": {},
   "outputs": [],
   "source": [
    "import gensim\n",
    "\n",
    "with open('vectors.txt', 'w') as f:\n",
    "    f.write(\"{} {}\\n\".format(vocab_size-1, embedding_dim))\n",
    "\n",
    "    vectors = model.get_weights()[0]\n",
    "    for word, i in tokenizer.word_index.items():\n",
    "        f.write('{} {}\\n'.format(word, \" \".join(map(str, list(vectors[i, :])))))\n",
    "    \n",
    "    f.close()\n",
    "\n",
    "w2v = gensim.models.KeyedVectors.load_word2vec_format(\"./vectors.txt\", binary=False)"
   ]
  },
  {
   "cell_type": "code",
   "execution_count": 23,
   "metadata": {},
   "outputs": [
    {
     "data": {
      "text/plain": [
       "[('villages', 0.7549866437911987),\n",
       " ('lebanese', 0.6862703561782837),\n",
       " ('murdered', 0.668368935585022),\n",
       " ('territory', 0.6653249859809875),\n",
       " ('occupied', 0.6579276919364929),\n",
       " ('civilians', 0.6509349346160889),\n",
       " ('terrorist', 0.6505898237228394),\n",
       " ('lebanon', 0.6483913660049438),\n",
       " ('aggression', 0.6475304365158081),\n",
       " ('israeli', 0.6383012533187866)]"
      ]
     },
     "execution_count": 23,
     "metadata": {},
     "output_type": "execute_result"
    }
   ],
   "source": [
    "w2v.most_similar(positive=['soldiers'])"
   ]
  },
  {
   "cell_type": "code",
   "execution_count": null,
   "metadata": {},
   "outputs": [],
   "source": []
  }
 ],
 "metadata": {
  "kernelspec": {
   "display_name": "autokeras",
   "language": "python",
   "name": "python3"
  },
  "language_info": {
   "codemirror_mode": {
    "name": "ipython",
    "version": 3
   },
   "file_extension": ".py",
   "mimetype": "text/x-python",
   "name": "python",
   "nbconvert_exporter": "python",
   "pygments_lexer": "ipython3",
   "version": "3.9.12"
  }
 },
 "nbformat": 4,
 "nbformat_minor": 2
}
